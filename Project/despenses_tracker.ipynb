{
 "cells": [
  {
   "cell_type": "markdown",
   "metadata": {},
   "source": [
    "Expense Tracker\n",
    "\n",
    " Build a program to track expenses where the user can add, view, and calculate the total.\n",
    " Save data to a file so that expenses can be viewed later."
   ]
  },
  {
   "cell_type": "markdown",
   "metadata": {},
   "source": [
    "Dependencies: \n",
    "pandas"
   ]
  },
  {
   "cell_type": "code",
   "execution_count": 10,
   "metadata": {},
   "outputs": [
    {
     "name": "stdout",
     "output_type": "stream",
     "text": [
      "Broke ass...\n"
     ]
    }
   ],
   "source": [
    "from datetime import datetime\n",
    "import pandas as pd\n",
    "\n",
    "\n",
    "file = \"C:\\\\Users\\\\Diogo\\\\Desktop\\\\test_excel.xlsx\"\n",
    "current_day_hour = datetime.now().strftime(\"%Y-%m-%d %H-%M-%S\")\n",
    "\n",
    "def viewex():\n",
    "    print('lol')\n",
    "\n",
    "def addex():\n",
    "    try: \n",
    "        \n",
    "        exchanges = int(input(\"Do you have anything you want to add?\\n\"\n",
    "                              \"1. Yes\\n\"\n",
    "                              \"2. No\\n\"\n",
    "                              \"Choose your option.\"))\n",
    "        \n",
    "       \n",
    "\n",
    "        if exchanges == 1: # looping ok - not appending to file but overwriting\n",
    "\n",
    "            amount = [int(input(\"How much did you spend?\"))]\n",
    "            data = {'Date': [current_day_hour],\n",
    "                    'Amount': amount}\n",
    "            df = pd.DataFrame(data)\n",
    "            \n",
    "            df.to_excel(file, index=False)            \n",
    "            addex()\n",
    "\n",
    "\n",
    "\n",
    "        elif exchanges == 2:\n",
    "            print('Broke ass...')\n",
    "\n",
    "        else:\n",
    "            print('insert good number')\n",
    "\n",
    "    except ValueError:\n",
    "        print(\"that is bad number....\")\n",
    "            \n",
    "\n",
    "def calcex():\n",
    "    print('test')\n",
    "# try:\n",
    "if 1 == 1:\n",
    "    userchoice1 = int(input(\"Hello! Welcome to Mr. Jorge's Spectacular Interest-Free* Bank! Thank you for your preference!\\n\"\n",
    "        \"*Only applies to the bank's owner.\\n\"\n",
    "        \"\\nWhat would you like to do today?\\n\"\n",
    "        \"1. View Expenses\\n\"\n",
    "        \"2. Add Expenses\\n\"\n",
    "        \"3. Calculate Total Expenses\\n\"\n",
    "        \"Choose your option(1-3): \"))\n",
    "    \n",
    "    if userchoice1 == 1: # For viewing \n",
    "        print(pd.read_excel(file))\n",
    "\n",
    "    elif userchoice1 == 2: # For Adding\n",
    "        addex()\n",
    "            \n",
    "\n",
    "\n",
    "    elif userchoice1 == 3: # For summing\n",
    "        print('3. yup')\n",
    "    \n",
    "    else:\n",
    "        print('That is an incorrect option! Do you need help from our accounting services? Only 0.10 per help in choosing!')\n",
    "    \n",
    "# except ValueError:\n",
    "#     print(\"oh no you're fucked\")"
   ]
  }
 ],
 "metadata": {
  "kernelspec": {
   "display_name": "excel",
   "language": "python",
   "name": "python3"
  },
  "language_info": {
   "codemirror_mode": {
    "name": "ipython",
    "version": 3
   },
   "file_extension": ".py",
   "mimetype": "text/x-python",
   "name": "python",
   "nbconvert_exporter": "python",
   "pygments_lexer": "ipython3",
   "version": "3.13.0"
  }
 },
 "nbformat": 4,
 "nbformat_minor": 2
}
