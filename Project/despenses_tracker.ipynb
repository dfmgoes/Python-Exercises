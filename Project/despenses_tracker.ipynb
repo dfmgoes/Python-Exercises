{
 "cells": [
  {
   "cell_type": "markdown",
   "metadata": {},
   "source": [
    "Expense Tracker\n",
    "\n",
    " Build a program to track expenses where the user can add, view, and calculate the total.\n",
    " Save data to a file so that expenses can be viewed later."
   ]
  },
  {
   "cell_type": "code",
   "execution_count": null,
   "metadata": {},
   "outputs": [],
   "source": [
    "from datetime import datetime\n",
    "import pandas as pd\n",
    "\n",
    "\n",
    "file = \"C:\\\\Users\\\\Diogo\\\\Desktop\\\\test_excel.xlsx\"\n",
    "current_day_hour = datetime.now().strftime(\"%Y-%m-%d %H-%M \")\n",
    "\n",
    "def viewex():\n",
    "    print('lol')\n",
    "\n",
    "def addex():\n",
    "    # try: \n",
    "        \n",
    "        exchanges = int(input(\"Do you have anything you want to add?\\n\"\n",
    "                              \"1. Yes\\n\"\n",
    "                              \"2. No\\n\"\n",
    "                              \"Choose your option.\"))\n",
    "        while exchanges: \n",
    "\n",
    "            if exchanges == 1:\n",
    "\n",
    "                amount = int(input(\"How much did you spend?\"))\n",
    "                data = {'Date': current_day_hour,\n",
    "                        'Amount': amount}\n",
    "                df = pd.DataFrame(data)\n",
    "                df.to_excel(file, index=False)\n",
    "                continue\n",
    "\n",
    "            elif exchanges == 2:\n",
    "                print('Broke ass...')\n",
    "                break\n",
    "            \n",
    "\n",
    "\n",
    "\n",
    "\n",
    "def calcex():\n",
    "    print('test')\n",
    "try:\n",
    "    userchoice1 = int(input(\"Hello! Welcome to Mr. Jorge's Spectacular Interest-Free* Bank! Thank you for your preference!\\n\"\n",
    "        \"*Only applies to the bank's owner.\\n\"\n",
    "        \"\\nWhat would you like to do today?\\n\"\n",
    "        \"1. View Expenses\\n\"\n",
    "        \"2. Add Expenses\\n\"\n",
    "        \"3. Calculate Total Expenses\\n\"\n",
    "        \"Choose your option(1-3): \"))\n",
    "    \n",
    "    if userchoice1 == 1: # For viewing \n",
    "        print(pd.read_excel(file))\n",
    "\n",
    "    elif userchoice1 == 2: # For Adding\n",
    "        addex()\n",
    "\n",
    "    elif userchoice1 == 3: # For summing\n",
    "        print('3. yup')\n",
    "    \n",
    "    else:\n",
    "        print('That is an incorrect option! Do you need help from our accounting services? Only 0.10 per help in choosing!')\n",
    "    \n",
    "except ValueError:"
   ]
  }
 ],
 "metadata": {
  "language_info": {
   "name": "python"
  }
 },
 "nbformat": 4,
 "nbformat_minor": 2
}
