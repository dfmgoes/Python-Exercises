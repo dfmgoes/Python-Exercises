{
 "cells": [
  {
   "cell_type": "markdown",
   "metadata": {},
   "source": [
    "Ansible module for interacting with unity storage"
   ]
  },
  {
   "cell_type": "markdown",
   "metadata": {},
   "source": [
    "Dependencies:\n",
    "\n",
    "\n",
    "storops - documentation: https://github.com/emc-openstack/storops \n",
    "\n",
    "\n",
    "ansible\n",
    "\n",
    "\n",
    "python3.11"
   ]
  },
  {
   "cell_type": "code",
   "execution_count": 5,
   "metadata": {},
   "outputs": [
    {
     "ename": "ModuleNotFoundError",
     "evalue": "No module named 'grp'",
     "output_type": "error",
     "traceback": [
      "\u001b[1;31m---------------------------------------------------------------------------\u001b[0m",
      "\u001b[1;31mModuleNotFoundError\u001b[0m                       Traceback (most recent call last)",
      "Cell \u001b[1;32mIn[5], line 3\u001b[0m\n\u001b[0;32m      1\u001b[0m \u001b[38;5;66;03m#!/usr/bin/python\u001b[39;00m\n\u001b[1;32m----> 3\u001b[0m \u001b[38;5;28;01mfrom\u001b[39;00m \u001b[38;5;21;01mansible\u001b[39;00m\u001b[38;5;21;01m.\u001b[39;00m\u001b[38;5;21;01mmodule_utils\u001b[39;00m\u001b[38;5;21;01m.\u001b[39;00m\u001b[38;5;21;01mbasic\u001b[39;00m \u001b[38;5;28;01mimport\u001b[39;00m AnsibleModule\n\u001b[0;32m      4\u001b[0m \u001b[38;5;28;01mfrom\u001b[39;00m \u001b[38;5;21;01mstorops\u001b[39;00m \u001b[38;5;28;01mimport\u001b[39;00m UnitySystem\n\u001b[0;32m      5\u001b[0m \u001b[38;5;28;01mimport\u001b[39;00m \u001b[38;5;21;01mtraceback\u001b[39;00m\n",
      "File \u001b[1;32mc:\\Users\\diogo\\miniconda3\\envs\\unity_module\\Lib\\site-packages\\ansible\\module_utils\\basic.py:28\u001b[0m\n\u001b[0;32m     26\u001b[0m \u001b[38;5;28;01mimport\u001b[39;00m \u001b[38;5;21;01matexit\u001b[39;00m\n\u001b[0;32m     27\u001b[0m \u001b[38;5;28;01mimport\u001b[39;00m \u001b[38;5;21;01merrno\u001b[39;00m\n\u001b[1;32m---> 28\u001b[0m \u001b[38;5;28;01mimport\u001b[39;00m \u001b[38;5;21;01mgrp\u001b[39;00m\n\u001b[0;32m     29\u001b[0m \u001b[38;5;28;01mimport\u001b[39;00m \u001b[38;5;21;01mfcntl\u001b[39;00m\n\u001b[0;32m     30\u001b[0m \u001b[38;5;28;01mimport\u001b[39;00m \u001b[38;5;21;01mlocale\u001b[39;00m\n",
      "\u001b[1;31mModuleNotFoundError\u001b[0m: No module named 'grp'"
     ]
    }
   ],
   "source": [
    "#!/usr/bin/python\n",
    "\n",
    "from ansible.module_utils.basic import AnsibleModule\n",
    "from storops import UnitySystem\n",
    "import traceback\n",
    "\n",
    "def run_module():\n",
    "    # Define module arguments - defined here to be used on the module variable below\n",
    "    module_args = dict(\n",
    "        unispherehost=dict(type='str', required=True),\n",
    "        username=dict(type='str', required=True),\n",
    "        password=dict(type='str', required=True, no_log=True),\n",
    "        validate_certs=dict(type='bool', default=False)\n",
    "    )\n",
    "\n",
    "    # Create AnsibleModule object\n",
    "    module = AnsibleModule(argument_spec=module_args, supports_check_mode=True) # must have check mode for validating settings\n",
    "\n",
    "    try:\n",
    "        # Connect to Unity using storops \n",
    "        conn = UnitySystem(\n",
    "            host=module.params['unispherehost'],\n",
    "            username=module.params['username'],\n",
    "            password=module.params['password'],\n",
    "            verify_ssl=module.params['validate_certs']\n",
    "        )\n",
    "\n",
    "        # Example: Get basic Unity system info\n",
    "        unity_info = conn.get_health()\n",
    "\n",
    "        # Return system health information to Ansible\n",
    "        module.exit_json(changed=False, unity_info=unity_info.to_dict())\n",
    "\n",
    "    except Exception as e:\n",
    "        module.fail_json(msg=\"Failed to connect to Unity system\", exception=traceback.format_exc())\n",
    "\n",
    "    try:\n",
    "        # Connect to Unity using storops \n",
    "        conn = UnitySystem(\n",
    "            host=module.params['unispherehost'],\n",
    "            username=module.params['username'],\n",
    "            password=module.params['password'],\n",
    "            verify_ssl=module.params['validate_certs']\n",
    "        )\n",
    "\n",
    "        # Example: Get basic Unity system info\n",
    "        unity_info = conn.get_health()\n",
    "\n",
    "        # Return system health information to Ansible\n",
    "        module.exit_json(changed=False, unity_info=unity_info.to_dict())\n",
    "\n",
    "    except Exception as e:\n",
    "        module.fail_json(msg=\"Failed to connect to Unity system\", exception=traceback.format_exc())\n",
    "\n",
    "def main():\n",
    "    run_module()\n",
    "\n",
    "if __name__ == '__main__':\n",
    "    main()\n"
   ]
  }
 ],
 "metadata": {
  "kernelspec": {
   "display_name": ".conda",
   "language": "python",
   "name": "python3"
  },
  "language_info": {
   "codemirror_mode": {
    "name": "ipython",
    "version": 3
   },
   "file_extension": ".py",
   "mimetype": "text/x-python",
   "name": "python",
   "nbconvert_exporter": "python",
   "pygments_lexer": "ipython3",
   "version": "3.11.10"
  }
 },
 "nbformat": 4,
 "nbformat_minor": 2
}
