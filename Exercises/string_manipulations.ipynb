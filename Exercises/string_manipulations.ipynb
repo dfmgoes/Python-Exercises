{
 "cells": [
  {
   "cell_type": "markdown",
   "metadata": {},
   "source": [
    "## 1. String Manipulation\n",
    "- Create a string variable with your name and use slicing to extract the first and last letters of your name.\n",
    "- Take a string of your choice and convert it into lowercase, then into uppercase, and print both results.\n",
    "- Create a string with spaces and use the `.strip()` method to remove leading and trailing spaces.\n",
    "- Find the index of a specific character in a string using the `.find()` method. If the character isn't found, print a message saying it's not there."
   ]
  },
  {
   "cell_type": "code",
   "execution_count": 40,
   "metadata": {},
   "outputs": [
    {
     "name": "stdout",
     "output_type": "stream",
     "text": [
      "j\n",
      "e\n"
     ]
    }
   ],
   "source": [
    "# first\n",
    "name = \"jorge\"\n",
    "namelen = int(len(name))\n",
    "namespaced = \"   jorge    \"\n",
    "# print(name[0])\n",
    "# print(name[namelen - 1])\n",
    "\n",
    "#second\n",
    "# print(name.lower())\n",
    "# print(name.upper())\n",
    "\n",
    "#third\n",
    "# namespaced.strip()\n",
    "\n",
    "#4th\n",
    "# letter = name.find(\"z\")\n",
    "\n",
    "# if letter == -1:\n",
    "#     print(\"not there\")\n",
    "# else:\n",
    "#     print(letter)\n"
   ]
  },
  {
   "cell_type": "markdown",
   "metadata": {},
   "source": [
    "## 2. Concatenation and Repetition\n",
    "- Concatenate your first and last name into a single string and print it.\n",
    "- Create a string with a word repeated 10 times using the string multiplication (`*`) operator, and print the result.\n"
   ]
  },
  {
   "cell_type": "code",
   "execution_count": 20,
   "metadata": {},
   "outputs": [
    {
     "name": "stdout",
     "output_type": "stream",
     "text": [
      "diogo loko\n",
      "diogo loko diogo loko diogo loko diogo loko diogo loko diogo loko diogo loko diogo loko diogo loko diogo loko \n"
     ]
    }
   ],
   "source": [
    "first = \"diogo\"\n",
    "last = \"loko\"\n",
    "name = first + \" \" + last\n",
    "lol = (name + \" \") * 10 \n",
    "print(name)\n",
    "print(lol)"
   ]
  },
  {
   "cell_type": "markdown",
   "metadata": {},
   "source": [
    "## 3. Counting Substrings\n",
    "- Create a string that contains a few words, and use the `.count()` method to count how many times a particular word or character appears in the string."
   ]
  },
  {
   "cell_type": "code",
   "execution_count": 23,
   "metadata": {},
   "outputs": [
    {
     "name": "stdout",
     "output_type": "stream",
     "text": [
      "0\n"
     ]
    }
   ],
   "source": [
    "thing = \"today i ran out of toilet paper\"\n",
    "\n",
    "print(thing.count(\"poop\"))"
   ]
  },
  {
   "cell_type": "markdown",
   "metadata": {},
   "source": [
    "## 4. String Comparison\n",
    "- Create two strings and compare them using equality (`==`) and inequality (`!=`) operators.\n",
    "- Check if one string is lexicographically greater than another (using `>` and `<`).\n"
   ]
  },
  {
   "cell_type": "code",
   "execution_count": 28,
   "metadata": {},
   "outputs": [
    {
     "name": "stdout",
     "output_type": "stream",
     "text": [
      "False\n",
      "True\n",
      "True\n"
     ]
    }
   ],
   "source": [
    "big = \"big\"\n",
    "small = \"small\"\n",
    "\n",
    "print(big == small)\n",
    "print(big != small)\n",
    "print(big < small)\n",
    "\n",
    "# que exercicio estupido"
   ]
  },
  {
   "cell_type": "markdown",
   "metadata": {},
   "source": [
    "## 5. String Slicing\n",
    "- Write a function that takes a string and slices the first 3 characters and the last 3 characters and prints them.\n",
    "- Using string slicing, reverse a string."
   ]
  },
  {
   "cell_type": "code",
   "execution_count": 44,
   "metadata": {},
   "outputs": [
    {
     "name": "stdout",
     "output_type": "stream",
     "text": [
      "grr\n",
      "pew\n"
     ]
    }
   ],
   "source": [
    "thing = \"grrrrah pow pow pow yaaa pew\"\n",
    "\n",
    "def slicer(x):\n",
    "    x = str(x)\n",
    "    length = int(len(x))\n",
    "    a = length - 3\n",
    "    b = length \n",
    "\n",
    "    print(x[0:3])\n",
    "    print(x[a:b])\n",
    "\n",
    "slicer(thing)\n"
   ]
  },
  {
   "cell_type": "markdown",
   "metadata": {},
   "source": [
    "## 6. String Formatting\n",
    "- Use the `format()` method to insert variables into a string. For example, create a sentence like \"Hello, my name is [name]\" where `[name]` is a variable.\n",
    "- Use f-strings (if you're comfortable with them) to format a string similarly."
   ]
  },
  {
   "cell_type": "code",
   "execution_count": 50,
   "metadata": {},
   "outputs": [
    {
     "name": "stdout",
     "output_type": "stream",
     "text": [
      "today i went to the jorge shop and got myself some brand new pokemon cards\n",
      "oh no the telly is broken call jorge\n"
     ]
    }
   ],
   "source": [
    "name = \"jorge\"\n",
    "thing = \"today i went to the {} shop and got myself some brand new pokemon cards\".format(name)\n",
    "\n",
    "print(thing)\n",
    "\n",
    "\n",
    "fthing = f\"oh no the telly is broken call {name}\"\n",
    "\n",
    "print(fthing)"
   ]
  }
 ],
 "metadata": {
  "kernelspec": {
   "display_name": "unity_module",
   "language": "python",
   "name": "python3"
  },
  "language_info": {
   "codemirror_mode": {
    "name": "ipython",
    "version": 3
   },
   "file_extension": ".py",
   "mimetype": "text/x-python",
   "name": "python",
   "nbconvert_exporter": "python",
   "pygments_lexer": "ipython3",
   "version": "3.11.10"
  }
 },
 "nbformat": 4,
 "nbformat_minor": 2
}
