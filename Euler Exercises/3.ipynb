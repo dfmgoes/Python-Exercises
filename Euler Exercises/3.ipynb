{
 "cells": [
  {
   "cell_type": "markdown",
   "metadata": {},
   "source": [
    "The prime factors of $13195$ are $5, 7, 13$ and $29$\n",
    "What is the largest prime factor of the number $600851475143$"
   ]
  },
  {
   "cell_type": "markdown",
   "metadata": {},
   "source": [
    "1. What is a prime factor?\n",
    "2. How do i calculate/find prime factors?"
   ]
  },
  {
   "cell_type": "code",
   "execution_count": 6,
   "metadata": {},
   "outputs": [
    {
     "name": "stdout",
     "output_type": "stream",
     "text": [
      "Adding 71 to list of prime factors\n",
      "Adding 839 to list of prime factors\n",
      "Adding 1471 to list of prime factors\n",
      "Adding 6857 to list of prime factors\n",
      "Adding 59569 to list of prime factors\n",
      "Adding 104441 to list of prime factors\n",
      "Adding 486847 to list of prime factors\n",
      "Adding 1234169 to list of prime factors\n",
      "Adding 5753023 to list of prime factors\n",
      "Adding 10086647 to list of prime factors\n",
      "Adding 87625999 to list of prime factors\n",
      "Adding 408464633 to list of prime factors\n",
      "Adding 716151937 to list of prime factors\n"
     ]
    },
    {
     "ename": "KeyboardInterrupt",
     "evalue": "",
     "output_type": "error",
     "traceback": [
      "\u001b[1;31m---------------------------------------------------------------------------\u001b[0m",
      "\u001b[1;31mKeyboardInterrupt\u001b[0m                         Traceback (most recent call last)",
      "Cell \u001b[1;32mIn[6], line 15\u001b[0m\n\u001b[0;32m     13\u001b[0m \u001b[38;5;66;03m# find numbers that return 0 and add to list\u001b[39;00m\n\u001b[0;32m     14\u001b[0m \u001b[38;5;28;01mfor\u001b[39;00m i \u001b[38;5;129;01min\u001b[39;00m \u001b[38;5;28mrange\u001b[39m(\u001b[38;5;241m2\u001b[39m,num):\n\u001b[1;32m---> 15\u001b[0m     \u001b[38;5;28;01mif\u001b[39;00m num \u001b[38;5;241m%\u001b[39m i \u001b[38;5;241m==\u001b[39m \u001b[38;5;241m0\u001b[39m:\n\u001b[0;32m     16\u001b[0m         numlist\u001b[38;5;241m.\u001b[39mappend(i)\n\u001b[0;32m     17\u001b[0m         \u001b[38;5;28mprint\u001b[39m(\u001b[38;5;124m\"\u001b[39m\u001b[38;5;124mAdding\u001b[39m\u001b[38;5;124m\"\u001b[39m, i, \u001b[38;5;124m\"\u001b[39m\u001b[38;5;124mto list of prime factors\u001b[39m\u001b[38;5;124m\"\u001b[39m)\n",
      "\u001b[1;31mKeyboardInterrupt\u001b[0m: "
     ]
    }
   ],
   "source": [
    "# num = 600851475143 demasiado grande demora muito tempo - + de 10 mins \n",
    "try: \n",
    "    num = int(input(\"Enter the number to find out all it's prime factors!!!!!!!!:\\n\"))\n",
    "\n",
    "except ValueError: \n",
    "    print(\"NO!!!!!!!!!!!!\")\n",
    "    \n",
    "numlist = []\n",
    "primes = []\n",
    "\n",
    "\n",
    "\n",
    "# find numbers that return 0 and add to list\n",
    "for i in range(2,num):\n",
    "    if num % i == 0:\n",
    "        numlist.append(i)\n",
    "        print(\"Adding\", i, \"to list of prime factors\")\n",
    "# find numbers that are not prime, by finding if it's able to divide by anything for than itself and add them to another list. \n",
    "\n",
    "for x in numlist:\n",
    "    for y in range(2, (x - 1)):\n",
    "        if x % y == 0:\n",
    "            primes.append(x)\n",
    "            print(\"Adding\", x, \"to list of non prime factors\")\n",
    "            break      # break loop when it finds the first one to stop multiple entries\n",
    "\n",
    "# remove non prime number from list\n",
    "for z in primes:\n",
    "    numlist.remove(z)\n",
    "    print(\"removing\", z, \"from list of prime factors\")\n",
    "\n",
    "bignumbah = max(numlist)\n",
    "print(\"Finding largest prime factor\")\n",
    "\n",
    "\n",
    "print(\"The largest prime factor in the number\", num, \"is:\", bignumbah)\n",
    "\n",
    "print(\"\\nHere is a list of all the prime factors:\", numlist)"
   ]
  },
  {
   "cell_type": "markdown",
   "metadata": {},
   "source": [
    "SÓ CHORAMINGUEI 3 VEZES"
   ]
  }
 ],
 "metadata": {
  "kernelspec": {
   "display_name": "base",
   "language": "python",
   "name": "python3"
  },
  "language_info": {
   "codemirror_mode": {
    "name": "ipython",
    "version": 3
   },
   "file_extension": ".py",
   "mimetype": "text/x-python",
   "name": "python",
   "nbconvert_exporter": "python",
   "pygments_lexer": "ipython3",
   "version": "3.12.7"
  }
 },
 "nbformat": 4,
 "nbformat_minor": 2
}
