{
 "cells": [
  {
   "cell_type": "markdown",
   "metadata": {},
   "source": [
    "The prime factors of $13195$ are $5, 7, 13$ and $29$\n",
    "What is the largest prime factor of the number $600851475143$"
   ]
  },
  {
   "cell_type": "markdown",
   "metadata": {},
   "source": [
    "1. What is a prime factor?\n",
    "2. How do i calculate/find prime factors?"
   ]
  },
  {
   "cell_type": "code",
   "execution_count": null,
   "metadata": {},
   "outputs": [],
   "source": [
    "# num = 600851475143 demasiado grande demora muito tempo\n",
    "try: \n",
    "    num = int(input(\"Enter the number to find out all it's prime factors!!!!!!!!:\\n\"))\n",
    "\n",
    "except ValueError: \n",
    "    print(\"NO!!!!!!!!!!!!\")\n",
    "    \n",
    "numlist = []\n",
    "primes = []\n",
    "\n",
    "\n",
    "\n",
    "# find numbers that return 0 and add to list\n",
    "for i in range(2,num):\n",
    "    if num % i == 0:\n",
    "        numlist.append(i)\n",
    "# find numbers that are not prime, by finding if it's able to divide by anything for than itself and add them to another list. break loop when it finds the first one to stop multiple entries\n",
    "for x in numlist:\n",
    "    for y in range(2, (x - 1)):\n",
    "        if x % y == 0:\n",
    "            primes.append(x)\n",
    "            break      \n",
    "# remove non prime number from list\n",
    "for z in primes:\n",
    "    numlist.remove(z)\n",
    "\n",
    "bignumbah = max(numlist)\n",
    "\n",
    "\n",
    "print(\"The largest prime factor in the number\", num, \"is:\", bignumbah)\n",
    "\n",
    "print(\"\\nHere is a list of all the prime factors:\", numlist)"
   ]
  },
  {
   "cell_type": "markdown",
   "metadata": {},
   "source": [
    "SÓ CHORAMINGUEI 3 VEZES"
   ]
  }
 ],
 "metadata": {
  "kernelspec": {
   "display_name": "base",
   "language": "python",
   "name": "python3"
  },
  "language_info": {
   "codemirror_mode": {
    "name": "ipython",
    "version": 3
   },
   "file_extension": ".py",
   "mimetype": "text/x-python",
   "name": "python",
   "nbconvert_exporter": "python",
   "pygments_lexer": "ipython3",
   "version": "3.12.7"
  }
 },
 "nbformat": 4,
 "nbformat_minor": 2
}
