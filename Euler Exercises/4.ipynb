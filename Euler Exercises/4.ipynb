{
 "cells": [
  {
   "attachments": {
    "image.png": {
     "image/png": "[encoded data removed]"
    }
   },
   "cell_type": "markdown",
   "metadata": {},
   "source": [
    "![image.png](attachment:image.png)"
   ]
  },
  {
   "cell_type": "markdown",
   "metadata": {},
   "source": [
    "1. How do i find palindromic numbers? - ??????\n",
    "2. How do i make python know a number is palindromic?"
   ]
  },
  {
   "cell_type": "code",
   "execution_count": null,
   "metadata": {},
   "outputs": [],
   "source": [
    "\n",
    "\n",
    "\n",
    "highest = 0\n",
    "finalx = 0\n",
    "finaly = 0\n",
    "\n",
    "for x in range(100,1000):\n",
    "    for y in range(100,1000):\n",
    "        mult = x * y\n",
    "        strmult = str(mult)\n",
    "        if len(strmult) == 5:\n",
    "            if strmult[0] == strmult[4] and strmult[1] == strmult[3] : # 0 = 3 - 1 = 4 \n",
    "                if mult > highest:\n",
    "                    highest = mult\n",
    "                    finalx = x\n",
    "                    finaly = y\n",
    "                    print(\"new high record! : \", mult)\n",
    "        elif len(strmult) == 6: # 0 1 2 3 4 5\n",
    "            if strmult[0] == strmult[5] and strmult[1] == strmult[4] and strmult[2] == strmult[3]:\n",
    "                if mult > highest:\n",
    "                    highest = mult\n",
    "                    finalx = x\n",
    "                    finaly = y\n",
    "                    print(\"new high record! : \", mult)   \n",
    "\n",
    "print(\"the big boy is\", highest, \"from the following big brain math:\", finalx, \"*\", finaly)\n",
    "        "
   ]
  },
  {
   "cell_type": "markdown",
   "metadata": {},
   "source": [
    "What chatgpt has to say:"
   ]
  },
  {
   "cell_type": "code",
   "execution_count": null,
   "metadata": {},
   "outputs": [],
   "source": [
    "highest = 0\n",
    "finalx = 0\n",
    "finaly = 0\n",
    "\n",
    "for x in range(100, 1000):\n",
    "    for y in range(x, 1000):  # Start y from x to avoid duplicate checks (e.g., 123 * 456 and 456 * 123)\n",
    "        mult = x * y\n",
    "        strmult = str(mult)\n",
    "        # Check if the product is a palindrome\n",
    "        if strmult == strmult[::-1]:\n",
    "            if mult > highest:\n",
    "                highest = mult\n",
    "                finalx = x\n",
    "                finaly = y\n",
    "\n",
    "print(\"The biggest palindrome is\", highest, \"from the following multiplication:\", finalx, \"*\", finaly)\n"
   ]
  }
 ],
 "metadata": {
  "kernelspec": {
   "display_name": "unity_module",
   "language": "python",
   "name": "python3"
  },
  "language_info": {
   "codemirror_mode": {
    "name": "ipython",
    "version": 3
   },
   "file_extension": ".py",
   "mimetype": "text/x-python",
   "name": "python",
   "nbconvert_exporter": "python",
   "pygments_lexer": "ipython3",
   "version": "3.11.10"
  }
 },
 "nbformat": 4,
 "nbformat_minor": 2
}
